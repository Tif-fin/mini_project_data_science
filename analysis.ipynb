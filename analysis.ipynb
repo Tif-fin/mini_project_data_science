{
 "cells": [
  {
   "cell_type": "code",
   "execution_count": 168,
   "metadata": {},
   "outputs": [],
   "source": [
    "import pandas as pd \n",
    "import matplotlib.pyplot as plt\n",
    "import numpy as np"
   ]
  },
  {
   "cell_type": "code",
   "execution_count": 169,
   "metadata": {},
   "outputs": [],
   "source": [
    "# load the clean dataset \n",
    "school_df = pd.read_csv(\"dataset/merged_clean_data.csv\")"
   ]
  },
  {
   "cell_type": "code",
   "execution_count": 170,
   "metadata": {},
   "outputs": [
    {
     "data": {
      "text/html": [
       "<div>\n",
       "<style scoped>\n",
       "    .dataframe tbody tr th:only-of-type {\n",
       "        vertical-align: middle;\n",
       "    }\n",
       "\n",
       "    .dataframe tbody tr th {\n",
       "        vertical-align: top;\n",
       "    }\n",
       "\n",
       "    .dataframe thead th {\n",
       "        text-align: right;\n",
       "    }\n",
       "</style>\n",
       "<table border=\"1\" class=\"dataframe\">\n",
       "  <thead>\n",
       "    <tr style=\"text-align: right;\">\n",
       "      <th></th>\n",
       "      <th>index</th>\n",
       "      <th>District</th>\n",
       "      <th>Zone</th>\n",
       "      <th>Development Region</th>\n",
       "      <th>Geographical Region</th>\n",
       "      <th>Latitude</th>\n",
       "      <th>Longitude</th>\n",
       "      <th>School_code</th>\n",
       "      <th>School_name</th>\n",
       "      <th>ENGLISH</th>\n",
       "      <th>...</th>\n",
       "      <th>HEALTH POPULATION AND ENVIRONMENT</th>\n",
       "      <th>TAP</th>\n",
       "      <th>SAP</th>\n",
       "      <th>DISTINCTION</th>\n",
       "      <th>FIRST DIVISION</th>\n",
       "      <th>SECOND DIVISION</th>\n",
       "      <th>THIRD DIVISION</th>\n",
       "      <th>PASS</th>\n",
       "      <th>FAIL</th>\n",
       "      <th>PASS PERCENT</th>\n",
       "    </tr>\n",
       "  </thead>\n",
       "  <tbody>\n",
       "    <tr>\n",
       "      <th>0</th>\n",
       "      <td>0</td>\n",
       "      <td>taplejung</td>\n",
       "      <td>Mechi</td>\n",
       "      <td>Eastern</td>\n",
       "      <td>Mountain</td>\n",
       "      <td>27.35</td>\n",
       "      <td>87.666667</td>\n",
       "      <td>1001</td>\n",
       "      <td>BALSUBODHINI SAN MA VI MEDIBUNG PHUNGLIN</td>\n",
       "      <td>16.2</td>\n",
       "      <td>...</td>\n",
       "      <td>33.1</td>\n",
       "      <td>60</td>\n",
       "      <td>60</td>\n",
       "      <td>0</td>\n",
       "      <td>2</td>\n",
       "      <td>7</td>\n",
       "      <td>0</td>\n",
       "      <td>9</td>\n",
       "      <td>51</td>\n",
       "      <td>15.0</td>\n",
       "    </tr>\n",
       "    <tr>\n",
       "      <th>1</th>\n",
       "      <td>1</td>\n",
       "      <td>taplejung</td>\n",
       "      <td>Mechi</td>\n",
       "      <td>Eastern</td>\n",
       "      <td>Mountain</td>\n",
       "      <td>27.35</td>\n",
       "      <td>87.666667</td>\n",
       "      <td>1002</td>\n",
       "      <td>BHANUJAN MA VI AMBITAR</td>\n",
       "      <td>17.3</td>\n",
       "      <td>...</td>\n",
       "      <td>39.2</td>\n",
       "      <td>116</td>\n",
       "      <td>115</td>\n",
       "      <td>0</td>\n",
       "      <td>5</td>\n",
       "      <td>16</td>\n",
       "      <td>0</td>\n",
       "      <td>21</td>\n",
       "      <td>94</td>\n",
       "      <td>18.3</td>\n",
       "    </tr>\n",
       "    <tr>\n",
       "      <th>2</th>\n",
       "      <td>2</td>\n",
       "      <td>taplejung</td>\n",
       "      <td>Mechi</td>\n",
       "      <td>Eastern</td>\n",
       "      <td>Mountain</td>\n",
       "      <td>27.35</td>\n",
       "      <td>87.666667</td>\n",
       "      <td>1003</td>\n",
       "      <td>MOTI MA VI KHOKLING</td>\n",
       "      <td>16.2</td>\n",
       "      <td>...</td>\n",
       "      <td>42.4</td>\n",
       "      <td>30</td>\n",
       "      <td>30</td>\n",
       "      <td>0</td>\n",
       "      <td>0</td>\n",
       "      <td>2</td>\n",
       "      <td>0</td>\n",
       "      <td>2</td>\n",
       "      <td>28</td>\n",
       "      <td>6.7</td>\n",
       "    </tr>\n",
       "    <tr>\n",
       "      <th>3</th>\n",
       "      <td>3</td>\n",
       "      <td>taplejung</td>\n",
       "      <td>Mechi</td>\n",
       "      <td>Eastern</td>\n",
       "      <td>Mountain</td>\n",
       "      <td>27.35</td>\n",
       "      <td>87.666667</td>\n",
       "      <td>1004</td>\n",
       "      <td>SINAM MA VI SINAM</td>\n",
       "      <td>28.7</td>\n",
       "      <td>...</td>\n",
       "      <td>48.2</td>\n",
       "      <td>76</td>\n",
       "      <td>75</td>\n",
       "      <td>0</td>\n",
       "      <td>12</td>\n",
       "      <td>46</td>\n",
       "      <td>0</td>\n",
       "      <td>58</td>\n",
       "      <td>17</td>\n",
       "      <td>77.3</td>\n",
       "    </tr>\n",
       "    <tr>\n",
       "      <th>4</th>\n",
       "      <td>4</td>\n",
       "      <td>taplejung</td>\n",
       "      <td>Mechi</td>\n",
       "      <td>Eastern</td>\n",
       "      <td>Mountain</td>\n",
       "      <td>27.35</td>\n",
       "      <td>87.666667</td>\n",
       "      <td>1005</td>\n",
       "      <td>GANESH MA VI KHEWANG</td>\n",
       "      <td>23.3</td>\n",
       "      <td>...</td>\n",
       "      <td>35.0</td>\n",
       "      <td>27</td>\n",
       "      <td>27</td>\n",
       "      <td>0</td>\n",
       "      <td>2</td>\n",
       "      <td>7</td>\n",
       "      <td>0</td>\n",
       "      <td>9</td>\n",
       "      <td>18</td>\n",
       "      <td>33.3</td>\n",
       "    </tr>\n",
       "  </tbody>\n",
       "</table>\n",
       "<p>5 rows × 24 columns</p>\n",
       "</div>"
      ],
      "text/plain": [
       "   index   District    Zone Development Region Geographical Region  Latitude  \\\n",
       "0      0  taplejung   Mechi            Eastern            Mountain     27.35   \n",
       "1      1  taplejung   Mechi            Eastern            Mountain     27.35   \n",
       "2      2  taplejung   Mechi            Eastern            Mountain     27.35   \n",
       "3      3  taplejung   Mechi            Eastern            Mountain     27.35   \n",
       "4      4  taplejung   Mechi            Eastern            Mountain     27.35   \n",
       "\n",
       "   Longitude School_code                               School_name  ENGLISH  \\\n",
       "0  87.666667        1001  BALSUBODHINI SAN MA VI MEDIBUNG PHUNGLIN     16.2   \n",
       "1  87.666667        1002                    BHANUJAN MA VI AMBITAR     17.3   \n",
       "2  87.666667        1003                       MOTI MA VI KHOKLING     16.2   \n",
       "3  87.666667        1004                         SINAM MA VI SINAM     28.7   \n",
       "4  87.666667        1005                      GANESH MA VI KHEWANG     23.3   \n",
       "\n",
       "   ...  HEALTH POPULATION AND ENVIRONMENT  TAP  SAP  DISTINCTION  \\\n",
       "0  ...                               33.1   60   60            0   \n",
       "1  ...                               39.2  116  115            0   \n",
       "2  ...                               42.4   30   30            0   \n",
       "3  ...                               48.2   76   75            0   \n",
       "4  ...                               35.0   27   27            0   \n",
       "\n",
       "   FIRST DIVISION  SECOND DIVISION  THIRD DIVISION  PASS  FAIL  PASS PERCENT  \n",
       "0               2                7               0     9    51          15.0  \n",
       "1               5               16               0    21    94          18.3  \n",
       "2               0                2               0     2    28           6.7  \n",
       "3              12               46               0    58    17          77.3  \n",
       "4               2                7               0     9    18          33.3  \n",
       "\n",
       "[5 rows x 24 columns]"
      ]
     },
     "execution_count": 170,
     "metadata": {},
     "output_type": "execute_result"
    }
   ],
   "source": [
    "school_df.head()"
   ]
  },
  {
   "cell_type": "code",
   "execution_count": 171,
   "metadata": {},
   "outputs": [],
   "source": [
    "# find the no. of school in each district\n",
    "no_school_each_district = school_df.groupby('District').size()"
   ]
  },
  {
   "cell_type": "code",
   "execution_count": 172,
   "metadata": {},
   "outputs": [
    {
     "data": {
      "text/plain": [
       "District\n",
       "achham           40\n",
       "arghakhanchi     54\n",
       "baglung          78\n",
       "baitadi          52\n",
       "bajhang          37\n",
       "               ... \n",
       "syangja         108\n",
       "tanahun         105\n",
       "taplejung        36\n",
       "terhathum        33\n",
       "udayapur         59\n",
       "Length: 75, dtype: int64"
      ]
     },
     "execution_count": 172,
     "metadata": {},
     "output_type": "execute_result"
    }
   ],
   "source": [
    "# show no. of schools in each district\n",
    "no_school_each_district\n"
   ]
  },
  {
   "cell_type": "code",
   "execution_count": null,
   "metadata": {},
   "outputs": [],
   "source": []
  },
  {
   "cell_type": "code",
   "execution_count": 173,
   "metadata": {},
   "outputs": [],
   "source": [
    "# average pass percentage of student in each district\n",
    "avg_pass_std = school_df.groupby(by=['District'])['PASS PERCENT'].agg([np.average])"
   ]
  },
  {
   "cell_type": "code",
   "execution_count": 174,
   "metadata": {},
   "outputs": [
    {
     "data": {
      "text/plain": [
       "Index(['index', 'District', 'Zone', 'Development Region',\n",
       "       'Geographical Region', 'Latitude', 'Longitude', 'School_code',\n",
       "       'School_name', 'ENGLISH', 'NEPALI', 'MATHS', 'SCIENCE',\n",
       "       'SOCIAL STUDIES', 'HEALTH POPULATION AND ENVIRONMENT', 'TAP', 'SAP',\n",
       "       'DISTINCTION', 'FIRST DIVISION', 'SECOND DIVISION', 'THIRD DIVISION',\n",
       "       'PASS', 'FAIL', 'PASS PERCENT'],\n",
       "      dtype='object')"
      ]
     },
     "execution_count": 174,
     "metadata": {},
     "output_type": "execute_result"
    }
   ],
   "source": [
    "school_df.columns"
   ]
  },
  {
   "cell_type": "code",
   "execution_count": 175,
   "metadata": {},
   "outputs": [
    {
     "data": {
      "text/html": [
       "<div>\n",
       "<style scoped>\n",
       "    .dataframe tbody tr th:only-of-type {\n",
       "        vertical-align: middle;\n",
       "    }\n",
       "\n",
       "    .dataframe tbody tr th {\n",
       "        vertical-align: top;\n",
       "    }\n",
       "\n",
       "    .dataframe thead th {\n",
       "        text-align: right;\n",
       "    }\n",
       "</style>\n",
       "<table border=\"1\" class=\"dataframe\">\n",
       "  <thead>\n",
       "    <tr style=\"text-align: right;\">\n",
       "      <th></th>\n",
       "      <th>average</th>\n",
       "    </tr>\n",
       "    <tr>\n",
       "      <th>District</th>\n",
       "      <th></th>\n",
       "    </tr>\n",
       "  </thead>\n",
       "  <tbody>\n",
       "    <tr>\n",
       "      <th>achham</th>\n",
       "      <td>53.615000</td>\n",
       "    </tr>\n",
       "    <tr>\n",
       "      <th>arghakhanchi</th>\n",
       "      <td>60.431481</td>\n",
       "    </tr>\n",
       "    <tr>\n",
       "      <th>baglung</th>\n",
       "      <td>41.065385</td>\n",
       "    </tr>\n",
       "    <tr>\n",
       "      <th>baitadi</th>\n",
       "      <td>49.713462</td>\n",
       "    </tr>\n",
       "    <tr>\n",
       "      <th>bajhang</th>\n",
       "      <td>75.713514</td>\n",
       "    </tr>\n",
       "  </tbody>\n",
       "</table>\n",
       "</div>"
      ],
      "text/plain": [
       "                average\n",
       "District               \n",
       "achham        53.615000\n",
       "arghakhanchi  60.431481\n",
       "baglung       41.065385\n",
       "baitadi       49.713462\n",
       "bajhang       75.713514"
      ]
     },
     "execution_count": 175,
     "metadata": {},
     "output_type": "execute_result"
    }
   ],
   "source": [
    "avg_pass_std.head()"
   ]
  },
  {
   "cell_type": "code",
   "execution_count": 176,
   "metadata": {},
   "outputs": [],
   "source": [
    "# avg score of nepali subject in each zone \n",
    "avg_score_np_zone = school_df.groupby('Zone')['NEPALI'].agg([np.average])"
   ]
  },
  {
   "cell_type": "code",
   "execution_count": 177,
   "metadata": {},
   "outputs": [],
   "source": [
    "# avg score of english subject in each zone \n",
    "avg_score_en_zone = school_df.groupby('Zone')['ENGLISH'].agg([np.average])"
   ]
  },
  {
   "cell_type": "code",
   "execution_count": 178,
   "metadata": {},
   "outputs": [],
   "source": [
    "en_np_avg = pd.merge(avg_score_en_zone,avg_score_np_zone,on='Zone',how='inner')"
   ]
  },
  {
   "cell_type": "code",
   "execution_count": 179,
   "metadata": {},
   "outputs": [
    {
     "data": {
      "text/html": [
       "<div>\n",
       "<style scoped>\n",
       "    .dataframe tbody tr th:only-of-type {\n",
       "        vertical-align: middle;\n",
       "    }\n",
       "\n",
       "    .dataframe tbody tr th {\n",
       "        vertical-align: top;\n",
       "    }\n",
       "\n",
       "    .dataframe thead th {\n",
       "        text-align: right;\n",
       "    }\n",
       "</style>\n",
       "<table border=\"1\" class=\"dataframe\">\n",
       "  <thead>\n",
       "    <tr style=\"text-align: right;\">\n",
       "      <th></th>\n",
       "      <th>average_x</th>\n",
       "      <th>average_y</th>\n",
       "    </tr>\n",
       "    <tr>\n",
       "      <th>Zone</th>\n",
       "      <th></th>\n",
       "      <th></th>\n",
       "    </tr>\n",
       "  </thead>\n",
       "  <tbody>\n",
       "    <tr>\n",
       "      <th>Bagmati</th>\n",
       "      <td>42.329647</td>\n",
       "      <td>55.832051</td>\n",
       "    </tr>\n",
       "    <tr>\n",
       "      <th>Bheri</th>\n",
       "      <td>26.969955</td>\n",
       "      <td>46.283857</td>\n",
       "    </tr>\n",
       "    <tr>\n",
       "      <th>Dhawalagiri</th>\n",
       "      <td>28.081538</td>\n",
       "      <td>45.738974</td>\n",
       "    </tr>\n",
       "    <tr>\n",
       "      <th>Gandaki</th>\n",
       "      <td>35.363842</td>\n",
       "      <td>49.304896</td>\n",
       "    </tr>\n",
       "    <tr>\n",
       "      <th>Janakpur</th>\n",
       "      <td>30.212742</td>\n",
       "      <td>47.532964</td>\n",
       "    </tr>\n",
       "  </tbody>\n",
       "</table>\n",
       "</div>"
      ],
      "text/plain": [
       "             average_x  average_y\n",
       "Zone                             \n",
       "Bagmati      42.329647  55.832051\n",
       "Bheri        26.969955  46.283857\n",
       "Dhawalagiri  28.081538  45.738974\n",
       "Gandaki      35.363842  49.304896\n",
       "Janakpur     30.212742  47.532964"
      ]
     },
     "execution_count": 179,
     "metadata": {},
     "output_type": "execute_result"
    }
   ],
   "source": [
    "en_np_avg.head()"
   ]
  },
  {
   "cell_type": "code",
   "execution_count": 180,
   "metadata": {},
   "outputs": [
    {
     "data": {
      "text/plain": [
       "array(['Mountain', 'Hill', 'Terai'], dtype=object)"
      ]
     },
     "execution_count": 180,
     "metadata": {},
     "output_type": "execute_result"
    }
   ],
   "source": [
    "# Show the Different Geographical Region\n",
    "school_df['Geographical Region'].unique()"
   ]
  },
  {
   "cell_type": "code",
   "execution_count": 181,
   "metadata": {},
   "outputs": [],
   "source": [
    "# pass percentage variance in specific Geographical Region\n",
    "hill_region = school_df[school_df['Geographical Region']=='Hill']"
   ]
  },
  {
   "cell_type": "code",
   "execution_count": 182,
   "metadata": {},
   "outputs": [
    {
     "data": {
      "text/plain": [
       "870.3856149838982"
      ]
     },
     "execution_count": 182,
     "metadata": {},
     "output_type": "execute_result"
    }
   ],
   "source": [
    "hill_region['PASS'].var(axis=0,numeric_only=True,ddof=0)"
   ]
  },
  {
   "cell_type": "code",
   "execution_count": 183,
   "metadata": {},
   "outputs": [
    {
     "data": {
      "text/html": [
       "<div>\n",
       "<style scoped>\n",
       "    .dataframe tbody tr th:only-of-type {\n",
       "        vertical-align: middle;\n",
       "    }\n",
       "\n",
       "    .dataframe tbody tr th {\n",
       "        vertical-align: top;\n",
       "    }\n",
       "\n",
       "    .dataframe thead th {\n",
       "        text-align: right;\n",
       "    }\n",
       "</style>\n",
       "<table border=\"1\" class=\"dataframe\">\n",
       "  <thead>\n",
       "    <tr style=\"text-align: right;\">\n",
       "      <th></th>\n",
       "      <th>index</th>\n",
       "      <th>District</th>\n",
       "      <th>Zone</th>\n",
       "      <th>Development Region</th>\n",
       "      <th>Geographical Region</th>\n",
       "      <th>Latitude</th>\n",
       "      <th>Longitude</th>\n",
       "      <th>School_code</th>\n",
       "      <th>School_name</th>\n",
       "      <th>ENGLISH</th>\n",
       "      <th>...</th>\n",
       "      <th>HEALTH POPULATION AND ENVIRONMENT</th>\n",
       "      <th>TAP</th>\n",
       "      <th>SAP</th>\n",
       "      <th>DISTINCTION</th>\n",
       "      <th>FIRST DIVISION</th>\n",
       "      <th>SECOND DIVISION</th>\n",
       "      <th>THIRD DIVISION</th>\n",
       "      <th>PASS</th>\n",
       "      <th>FAIL</th>\n",
       "      <th>PASS PERCENT</th>\n",
       "    </tr>\n",
       "  </thead>\n",
       "  <tbody>\n",
       "    <tr>\n",
       "      <th>36</th>\n",
       "      <td>36</td>\n",
       "      <td>panchthar</td>\n",
       "      <td>Mechi</td>\n",
       "      <td>Eastern</td>\n",
       "      <td>Hill</td>\n",
       "      <td>27.2</td>\n",
       "      <td>87.83</td>\n",
       "      <td>2000</td>\n",
       "      <td>PRIVATE PANCHTHAR</td>\n",
       "      <td>21.8</td>\n",
       "      <td>...</td>\n",
       "      <td>39.8</td>\n",
       "      <td>97</td>\n",
       "      <td>92</td>\n",
       "      <td>0</td>\n",
       "      <td>1</td>\n",
       "      <td>7</td>\n",
       "      <td>8</td>\n",
       "      <td>16</td>\n",
       "      <td>76</td>\n",
       "      <td>17.4</td>\n",
       "    </tr>\n",
       "    <tr>\n",
       "      <th>37</th>\n",
       "      <td>37</td>\n",
       "      <td>panchthar</td>\n",
       "      <td>Mechi</td>\n",
       "      <td>Eastern</td>\n",
       "      <td>Hill</td>\n",
       "      <td>27.2</td>\n",
       "      <td>87.83</td>\n",
       "      <td>2001</td>\n",
       "      <td>PHIDIM MA VI PHIDIM</td>\n",
       "      <td>23.5</td>\n",
       "      <td>...</td>\n",
       "      <td>42.7</td>\n",
       "      <td>104</td>\n",
       "      <td>103</td>\n",
       "      <td>0</td>\n",
       "      <td>13</td>\n",
       "      <td>29</td>\n",
       "      <td>1</td>\n",
       "      <td>43</td>\n",
       "      <td>60</td>\n",
       "      <td>41.7</td>\n",
       "    </tr>\n",
       "  </tbody>\n",
       "</table>\n",
       "<p>2 rows × 24 columns</p>\n",
       "</div>"
      ],
      "text/plain": [
       "    index   District    Zone Development Region Geographical Region  Latitude  \\\n",
       "36     36  panchthar   Mechi            Eastern                Hill      27.2   \n",
       "37     37  panchthar   Mechi            Eastern                Hill      27.2   \n",
       "\n",
       "    Longitude School_code          School_name  ENGLISH  ...  \\\n",
       "36      87.83        2000    PRIVATE PANCHTHAR     21.8  ...   \n",
       "37      87.83        2001  PHIDIM MA VI PHIDIM     23.5  ...   \n",
       "\n",
       "    HEALTH POPULATION AND ENVIRONMENT  TAP  SAP  DISTINCTION  FIRST DIVISION  \\\n",
       "36                               39.8   97   92            0               1   \n",
       "37                               42.7  104  103            0              13   \n",
       "\n",
       "    SECOND DIVISION  THIRD DIVISION  PASS  FAIL  PASS PERCENT  \n",
       "36                7               8    16    76          17.4  \n",
       "37               29               1    43    60          41.7  \n",
       "\n",
       "[2 rows x 24 columns]"
      ]
     },
     "execution_count": 183,
     "metadata": {},
     "output_type": "execute_result"
    }
   ],
   "source": [
    "hill_region.head(2)"
   ]
  },
  {
   "cell_type": "code",
   "execution_count": null,
   "metadata": {},
   "outputs": [],
   "source": []
  }
 ],
 "metadata": {
  "kernelspec": {
   "display_name": "test",
   "language": "python",
   "name": "python3"
  },
  "language_info": {
   "codemirror_mode": {
    "name": "ipython",
    "version": 3
   },
   "file_extension": ".py",
   "mimetype": "text/x-python",
   "name": "python",
   "nbconvert_exporter": "python",
   "pygments_lexer": "ipython3",
   "version": "3.12.3"
  }
 },
 "nbformat": 4,
 "nbformat_minor": 2
}
