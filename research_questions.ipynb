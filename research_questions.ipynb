{
 "cells": [
  {
   "cell_type": "markdown",
   "metadata": {},
   "source": [
    "**General Data Overview**\n",
    "\n",
    "How many schools are there in each district?<br>\n",
    "What is the total number of schools in each zone?<br>\n",
    "How is the distribution of schools across different development regions?<br>\n",
    "What is the geographical spread of schools across different geographical regions?<br>\n",
    "\n",
    "**Performance Analysis**\n",
    "\n",
    "What is the average pass percentage for schools in each district?<br>\n",
    "Which district has the highest distinction rate in English?<br>\n",
    "How do the pass percentages in Maths compare across different zones?<br>\n",
    "What is the average number of students passing in the first division for each development region?<br>\n",
    "Which geographical region has the highest pass percentage in Science?<br>\n",
    "\n",
    "**Subject-Specific Performance**\n",
    "\n",
    "What is the average score in Nepali for schools in each zone?<br>\n",
    "Which school has the highest average score in Maths?<br>\n",
    "How does the performance in Social Studies vary across different geographical regions?<br>\n",
    "What is the distribution of scores in Health Population and Environment across the districts?<br>\n",
    "\n",
    "**Comparative Performance**\n",
    "\n",
    "How do the average scores in English compare to those in Nepali across different zones?<br>\n",
    "What is the correlation between the pass percentages in Science and Maths?<br>\n",
    "Which schools have consistently high performance across all subjects?<br>\n",
    "\n",
    "**Individual School Performance**\n",
    "\n",
    "What is the performance breakdown for a specific school (e.g., highest distinction, first division, etc.)?<br>\n",
    "How does School A's performance in Science compare to School B's performance in the same subject?<br>\n",
    "Which school has the highest pass percentage in the district of XYZ?<br>\n",
    "\n",
    "**Statistical Analysis**\n",
    "\n",
    "What is the variance in pass percentages across all schools in a specific geographical region?<br>\n",
    "Which subject shows the most variability in scores across different schools?<br>\n",
    "What is the median pass percentage for each zone?<br>\n",
    "\n",
    "**Geographical Insights**\n",
    "\n",
    "What are the latitude and longitude coordinates of schools with the highest distinction rates?<br>\n",
    "How does the pass percentage correlate with the geographical location (latitude and longitude) of the schools?<br>\n",
    "Are there any geographical regions with a significant number of failing schools?<br>\n",
    "\n",
    "**Trend Analysis**\n",
    "\n",
    "How have the pass percentages changed over time (if historical data is available)?<br>\n",
    "Are there any trends in the distinction rates for specific subjects in particular zones?<br>\n",
    "What is the trend in the number of students achieving first division across different development regions?<br>"
   ]
  },
  {
   "cell_type": "markdown",
   "metadata": {},
   "source": []
  }
 ],
 "metadata": {
  "language_info": {
   "name": "python"
  }
 },
 "nbformat": 4,
 "nbformat_minor": 2
}
